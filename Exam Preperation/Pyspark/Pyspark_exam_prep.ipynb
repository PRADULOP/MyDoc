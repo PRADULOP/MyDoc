{
 "cells": [
  {
   "cell_type": "code",
   "execution_count": 1,
   "id": "0e862bd6-0e07-4000-b8a2-0fcef5dbd86c",
   "metadata": {},
   "outputs": [
    {
     "name": "stdout",
     "output_type": "stream",
     "text": [
      "Spark version: 3.5.5\n"
     ]
    }
   ],
   "source": [
    "import findspark\n",
    "findspark.init()\n",
    "\n",
    "from pyspark.sql import SparkSession\n",
    "spark=SparkSession.builder \\\n",
    "      .appName(\"MyApp\") \\\n",
    "      .master(\"local[*]\") \\\n",
    "      .getOrCreate()\n",
    "print(\"Spark version:\", spark.version)\n",
    "sc=spark.sparkContext"
   ]
  },
  {
   "cell_type": "code",
   "execution_count": 2,
   "id": "ed13713f-182e-4e26-b56f-1796f84a41b6",
   "metadata": {},
   "outputs": [
    {
     "data": {
      "text/html": [
       "\n",
       "            <div>\n",
       "                <p><b>SparkSession - in-memory</b></p>\n",
       "                \n",
       "        <div>\n",
       "            <p><b>SparkContext</b></p>\n",
       "\n",
       "            <p><a href=\"http://172.19.3.190:4040\">Spark UI</a></p>\n",
       "\n",
       "            <dl>\n",
       "              <dt>Version</dt>\n",
       "                <dd><code>v3.5.5</code></dd>\n",
       "              <dt>Master</dt>\n",
       "                <dd><code>local[*]</code></dd>\n",
       "              <dt>AppName</dt>\n",
       "                <dd><code>MyApp</code></dd>\n",
       "            </dl>\n",
       "        </div>\n",
       "        \n",
       "            </div>\n",
       "        "
      ],
      "text/plain": [
       "<pyspark.sql.session.SparkSession at 0x2185e887010>"
      ]
     },
     "execution_count": 2,
     "metadata": {},
     "output_type": "execute_result"
    }
   ],
   "source": [
    "spark"
   ]
  },
  {
   "cell_type": "code",
   "execution_count": 3,
   "id": "dc38f8dc-5860-4350-8024-59afb23e5b81",
   "metadata": {},
   "outputs": [
    {
     "name": "stdout",
     "output_type": "stream",
     "text": [
      "+---------------+---------------+-----------+-------------------+-------------+-------+---------------+---------------+-------------+---------+------------+---------------+--------------+----------------------+---------+----------------+------------+--------------+----------------+--------+-----------+\n",
      "|Pickup DateTime|  Drop DateTime|Driver Name|Driver Phone Number|Trip Distance|Trip ID|Pickup Location|  Drop Location|Trip Duration|Trip Fare|Vehicle Type|   Trip Purpose|Passenger Name|Passenger Phone Number|Scheduled|Passenger Rating|Driver Rated|Payment Method|Payment Discount|Net Fare|Trip Status|\n",
      "+---------------+---------------+-----------+-------------------+-------------+-------+---------------+---------------+-------------+---------+------------+---------------+--------------+----------------------+---------+----------------+------------+--------------+----------------+--------+-----------+\n",
      "| 1/1/2016 21:11| 1/1/2016 21:17|     Almire|         9298608912|           21| 318886|    Fort Pierce|    Fort Pierce|          5.1|    49.98|        Bike| Meal/Entertain|       Johanna|            9181026109|      YES|             3.6|         YES|          Gpay|              0%|   49.98|  Cancelled|\n",
      "| 1/2/2016 20:25| 1/2/2016 20:38|    Frazier|         8621617385|           27| 318886|    Fort Pierce|    Fort Pierce|          4.8|    47.04|        Bike|Errand/Supplies|       Charlot|            9855403124|      YES|             4.5|         YES|        Phonpe|              0%|   47.04|    Arrived|\n",
      "| 1/5/2016 17:31| 1/5/2016 17:45|     Editha|         9954004976|           20| 318886|    Fort Pierce|    Fort Pierce|          4.7|    46.06|        Bike|        Meeting|         Cissy|            9328907059|      YES|             4.8|         YES|         Paytm|              0%|   46.06|   Assigned|\n",
      "| 1/6/2016 14:42| 1/6/2016 15:49|      Deeyn|         9885727873|           34| 318886|    Fort Pierce|West Palm Beach|         63.7|   624.26|        Bike| Customer Visit|        Luelle|            9774674359|       NO|             4.9|         YES|   Uber wallet|             10%| 561.834|   Assigned|\n",
      "| 1/6/2016 17:15| 1/6/2016 17:19|     Correy|         9661756645|           28| 475241|West Palm Beach|West Palm Beach|          4.3|    42.14|        Bike| Meal/Entertain|         Myrle|            9425892986|       NO|             5.0|          NO|          cash|              0%|   42.14|   Assigned|\n",
      "| 1/6/2016 17:30| 1/6/2016 17:35|      Bryan|         8721880095|           50| 475241|West Palm Beach|     Palm Beach|          7.1|    69.58|        Bike|        Meeting|        Duncan|            9611855033|      YES|             3.0|         YES|   Uber wallet|             10%|  76.538|    Arrived|\n",
      "| 1/7/2016 13:27| 1/7/2016 13:33|     Crissy|         8579258893|           68| 265814|           Cary|           Cary|          0.8|     7.84|        Bike|        Meeting|        Carine|            9700998304|      YES|             3.6|         YES|   Uber wallet|             10%|   8.624|   Assigned|\n",
      "| 1/10/2016 8:05| 1/10/2016 8:25|     Kendre|         8900099665|           31| 265814|           Cary|    Morrisville|          8.3|    81.34|        Bike|        Meeting|      Collette|            9212537431|      YES|             3.9|         YES|   Uber wallet|             10%|  89.474|   Assigned|\n",
      "|1/10/2016 12:17|1/10/2016 12:44|      Aymer|         9918333307|           47| 386077|        Jamaica|       New York|         16.5|    161.7|        Bike| Customer Visit|        Killie|            9426616674|       NO|             4.2|         YES|   Uber wallet|             10%|  177.87|    Arrived|\n",
      "|1/10/2016 15:08|1/10/2016 15:51|     Gabbey|         9050095157|           59| 125733|       New York|         Queens|         10.8|   105.84|        Bike|        Meeting|       Ellette|            8949025277|       NO|             4.8|          NO|          cash|              0%|  105.84|   Assigned|\n",
      "+---------------+---------------+-----------+-------------------+-------------+-------+---------------+---------------+-------------+---------+------------+---------------+--------------+----------------------+---------+----------------+------------+--------------+----------------+--------+-----------+\n",
      "only showing top 10 rows\n",
      "\n"
     ]
    }
   ],
   "source": [
    "cus_df=spark.read.csv('Customer_table.csv',header=True,inferSchema=True,mode=\"DROPMALFORMED\")\n",
    "cus_df.show(10)"
   ]
  },
  {
   "cell_type": "code",
   "execution_count": 4,
   "id": "47d12a0b-5ac4-42aa-9604-786a5c2330ba",
   "metadata": {},
   "outputs": [
    {
     "name": "stdout",
     "output_type": "stream",
     "text": [
      "root\n",
      " |-- Pickup DateTime: string (nullable = true)\n",
      " |-- Drop DateTime: string (nullable = true)\n",
      " |-- Driver Name: string (nullable = true)\n",
      " |-- Driver Phone Number: long (nullable = true)\n",
      " |-- Trip Distance: integer (nullable = true)\n",
      " |-- Trip ID: integer (nullable = true)\n",
      " |-- Pickup Location: string (nullable = true)\n",
      " |-- Drop Location: string (nullable = true)\n",
      " |-- Trip Duration: double (nullable = true)\n",
      " |-- Trip Fare: double (nullable = true)\n",
      " |-- Vehicle Type: string (nullable = true)\n",
      " |-- Trip Purpose: string (nullable = true)\n",
      " |-- Passenger Name: string (nullable = true)\n",
      " |-- Passenger Phone Number: long (nullable = true)\n",
      " |-- Scheduled: string (nullable = true)\n",
      " |-- Passenger Rating: double (nullable = true)\n",
      " |-- Driver Rated: string (nullable = true)\n",
      " |-- Payment Method: string (nullable = true)\n",
      " |-- Payment Discount: string (nullable = true)\n",
      " |-- Net Fare: double (nullable = true)\n",
      " |-- Trip Status: string (nullable = true)\n",
      "\n"
     ]
    }
   ],
   "source": [
    "cus_df.printSchema()"
   ]
  },
  {
   "cell_type": "code",
   "execution_count": 5,
   "id": "f7789c7b-470a-4a4d-90f1-71bf78f6e1cc",
   "metadata": {},
   "outputs": [
    {
     "name": "stdout",
     "output_type": "stream",
     "text": [
      "+---------------+---------------+-------+----------+---+---------+---------------+-----------+---------------+-----+-----------+-------------+---------------+-----+------+--------+--------+-----+-------------+---------+---------+---------+----------+----------+-----------+--------------+---------------+---------+----------+------------+--------+----------+---------+\n",
      "|     Start_time|       End_time|   Name|    Mobile|Age|Pin-Codes|         Source|Vaccine_cus|    Destination|Miles|Est_Costing|Ride_category|        Purpose| temp|clouds|pressure|humidity| wind|accquire_vehi|free_vehi|Lattitute|Longitude|locationID|rating_cus|Riders_Name|Riders_contact|Trusted_Contact|Rating_RI|Vaccine_Ri|Payment_mode|Discount|Final_cost|   Status|\n",
      "+---------------+---------------+-------+----------+---+---------+---------------+-----------+---------------+-----+-----------+-------------+---------------+-----+------+--------+--------+-----+-------------+---------+---------+---------+----------+----------+-----------+--------------+---------------+---------+----------+------------+--------+----------+---------+\n",
      "| 1/1/2016 21:11| 1/1/2016 21:17| Almire|9298608912| 21|   318886|    Fort Pierce|        YES|    Fort Pierce|  5.1|      49.98|         Bike| Meal/Entertain|42.42|   1.0| 1012.14|    0.77|11.25|           26|       17|   40.769| -73.9549|       141|         3|    Johanna|    9181026109|            YES|      3.6|       YES|        Gpay|      0%|     49.98|Cancelled|\n",
      "| 1/2/2016 20:25| 1/2/2016 20:38|Frazier|8621617385| 27|   318886|    Fort Pierce|        YES|    Fort Pierce|  4.8|      47.04|         Bike|Errand/Supplies|42.43|   1.0| 1012.15|    0.76|11.32|           45|       24|  40.7267| -74.0345|        65|         4|    Charlot|    9855403124|            YES|      4.5|       YES|      Phonpe|      0%|     47.04|  Arrived|\n",
      "| 1/5/2016 17:31| 1/5/2016 17:45| Editha|9954004976| 20|   318886|    Fort Pierce|        YES|    Fort Pierce|  4.7|      46.06|         Bike|        Meeting| 42.5|   1.0| 1012.15|    0.76|11.07|          731|       36|  40.7316| -73.9873|       100|         5|      Cissy|    9328907059|            YES|      4.8|       YES|       Paytm|      0%|     46.06| Assigned|\n",
      "| 1/6/2016 14:42| 1/6/2016 15:49|  Deeyn|9885727873| 34|   318886|    Fort Pierce|        YES|West Palm Beach| 63.7|     624.26|         Bike| Customer Visit|42.11|   1.0| 1012.13|    0.77|11.09|           10|        9|  40.7588| -73.9776|        80|         2|     Luelle|    9774674359|             NO|      4.9|       YES| Uber wallet|     10%|   561.834| Assigned|\n",
      "| 1/6/2016 17:15| 1/6/2016 17:19| Correy|9661756645| 28|   475241|West Palm Beach|         NO|West Palm Beach|  4.3|      42.14|         Bike| Meal/Entertain|43.13|   1.0| 1012.14|    0.75|11.49|          814|       62|  40.7594| -73.9722|        90|         3|      Myrle|    9425892986|             NO|      5.0|        NO|        cash|      0%|     42.14| Assigned|\n",
      "| 1/6/2016 17:30| 1/6/2016 17:35|  Bryan|8721880095| 50|   475241|West Palm Beach|        YES|     Palm Beach|  7.1|      69.58|         Bike|        Meeting|42.34|   1.0| 1012.15|    0.77|11.49|          220|       46|  40.7383| -74.0403|       228|         4|     Duncan|    9611855033|            YES|      3.0|       YES| Uber wallet|     10%|    62.622|  Arrived|\n",
      "| 1/7/2016 13:27| 1/7/2016 13:33| Crissy|8579258893| 68|   265814|           Cary|        YES|           Cary|  0.8|       7.84|         Bike|        Meeting|42.36|   1.0| 1012.15|    0.77|11.46|           36|       28|  40.7223| -73.9887|         7|         5|     Carine|    9700998304|            YES|      3.6|       YES| Uber wallet|     10%|     7.056| Assigned|\n",
      "| 1/10/2016 8:05| 1/10/2016 8:25| Kendre|8900099665| 31|   265814|           Cary|        YES|    Morrisville|  8.3|      81.34|         Bike|        Meeting|42.21|   1.0| 1012.16|    0.77|11.37|         1137|      106|   40.762|  -73.979|        74|         5|   Collette|    9212537431|            YES|      3.9|       YES| Uber wallet|     10%|    73.206| Assigned|\n",
      "|1/10/2016 12:17|1/10/2016 12:44|  Aymer|9918333307| 47|   386077|        Jamaica|        YES|       New York| 16.5|      161.7|         Bike| Customer Visit|42.07|   1.0| 1012.12|    0.78|11.28|          236|      103|  40.7524|  -73.996|       249|         5|     Killie|    9426616674|             NO|      4.2|       YES| Uber wallet|     10%|    145.53|  Arrived|\n",
      "|1/10/2016 15:08|1/10/2016 15:51| Gabbey|9050095157| 59|   125733|       New York|         NO|         Queens| 10.8|     105.84|         Bike|        Meeting|43.05|   1.0| 1012.12|    0.75|11.58|           47|       29|  40.7575| -73.9846|        22|         4|    Ellette|    8949025277|             NO|      4.8|        NO|        cash|      0%|    105.84| Assigned|\n",
      "+---------------+---------------+-------+----------+---+---------+---------------+-----------+---------------+-----+-----------+-------------+---------------+-----+------+--------+--------+-----+-------------+---------+---------+---------+----------+----------+-----------+--------------+---------------+---------+----------+------------+--------+----------+---------+\n",
      "only showing top 10 rows\n",
      "\n"
     ]
    }
   ],
   "source": [
    "admin_df=spark.read.csv('Admin_data.csv',header=True,inferSchema=True,mode=\"DROPMALFORMED\")\n",
    "admin_df.show(10)"
   ]
  },
  {
   "cell_type": "code",
   "execution_count": 6,
   "id": "371bada4-11d1-4515-89f0-553222999819",
   "metadata": {},
   "outputs": [
    {
     "name": "stdout",
     "output_type": "stream",
     "text": [
      "root\n",
      " |-- Start_time: string (nullable = true)\n",
      " |-- End_time: string (nullable = true)\n",
      " |-- Name: string (nullable = true)\n",
      " |-- Mobile: long (nullable = true)\n",
      " |-- Age: integer (nullable = true)\n",
      " |-- Pin-Codes: integer (nullable = true)\n",
      " |-- Source: string (nullable = true)\n",
      " |-- Vaccine_cus: string (nullable = true)\n",
      " |-- Destination: string (nullable = true)\n",
      " |-- Miles: double (nullable = true)\n",
      " |-- Est_Costing: double (nullable = true)\n",
      " |-- Ride_category: string (nullable = true)\n",
      " |-- Purpose: string (nullable = true)\n",
      " |-- temp: double (nullable = true)\n",
      " |-- clouds: double (nullable = true)\n",
      " |-- pressure: double (nullable = true)\n",
      " |-- humidity: double (nullable = true)\n",
      " |-- wind: double (nullable = true)\n",
      " |-- accquire_vehi: integer (nullable = true)\n",
      " |-- free_vehi: string (nullable = true)\n",
      " |-- Lattitute: double (nullable = true)\n",
      " |-- Longitude: double (nullable = true)\n",
      " |-- locationID: integer (nullable = true)\n",
      " |-- rating_cus: integer (nullable = true)\n",
      " |-- Riders_Name: string (nullable = true)\n",
      " |-- Riders_contact: long (nullable = true)\n",
      " |-- Trusted_Contact: string (nullable = true)\n",
      " |-- Rating_RI: double (nullable = true)\n",
      " |-- Vaccine_Ri: string (nullable = true)\n",
      " |-- Payment_mode: string (nullable = true)\n",
      " |-- Discount: string (nullable = true)\n",
      " |-- Final_cost: double (nullable = true)\n",
      " |-- Status: string (nullable = true)\n",
      "\n"
     ]
    }
   ],
   "source": [
    "admin_df.printSchema()"
   ]
  },
  {
   "cell_type": "markdown",
   "id": "f48492e6-6ded-4f54-a0c7-a455e34c6c43",
   "metadata": {},
   "source": [
    "# 1. Top 5 cities with most customers"
   ]
  },
  {
   "cell_type": "code",
   "execution_count": 7,
   "id": "7effc998-2401-4c8e-b249-aba3bed61cd7",
   "metadata": {},
   "outputs": [
    {
     "name": "stdout",
     "output_type": "stream",
     "text": [
      "+-----------------+--------------+\n",
      "|  Pickup Location|customer_count|\n",
      "+-----------------+--------------+\n",
      "|      Fort Pierce|           108|\n",
      "|          Midtown|            78|\n",
      "|  West Palm Beach|            54|\n",
      "|             Cary|            52|\n",
      "|  Lower Manhattan|            26|\n",
      "|     Midtown East|            26|\n",
      "|Flatiron District|            26|\n",
      "|      East Harlem|            26|\n",
      "|    Hudson Square|            26|\n",
      "|          Jamaica|            26|\n",
      "|         New York|            26|\n",
      "|         Elmhurst|            26|\n",
      "+-----------------+--------------+\n",
      "\n"
     ]
    }
   ],
   "source": [
    "from pyspark.sql.functions import count\n",
    "cus_df.groupBy(\"Pickup Location\").agg(count(\"Passenger Name\").alias(\"customer_count\")).orderBy(\"customer_count\",ascending=False).show()"
   ]
  },
  {
   "cell_type": "markdown",
   "id": "aa4f7868-78c1-4f68-ae70-9d9ec559ea09",
   "metadata": {},
   "source": [
    "# 2. The total amount of customers who opted ride category as bike."
   ]
  },
  {
   "cell_type": "code",
   "execution_count": 8,
   "id": "6254901a-68a7-4a12-acec-92721508c060",
   "metadata": {},
   "outputs": [
    {
     "name": "stdout",
     "output_type": "stream",
     "text": [
      "+--------------+\n",
      "|customer_count|\n",
      "+--------------+\n",
      "|           100|\n",
      "+--------------+\n",
      "\n"
     ]
    }
   ],
   "source": [
    "from pyspark.sql.functions import count\n",
    "admin_df.filter(admin_df.Ride_category==\"Bike\").agg(count(\"Riders_Name\").alias(\"customer_count\")).orderBy('customer_count',ascending=False).show()"
   ]
  },
  {
   "cell_type": "markdown",
   "id": "beccf111-5494-40ca-99fd-28522545b66f",
   "metadata": {},
   "source": [
    "# 3. Find cities with more than 50 customers"
   ]
  },
  {
   "cell_type": "code",
   "execution_count": 9,
   "id": "6447c075-bd92-432b-bb39-898e5b6fff41",
   "metadata": {},
   "outputs": [
    {
     "name": "stdout",
     "output_type": "stream",
     "text": [
      "+---------------+--------------+\n",
      "|         Source|customer_count|\n",
      "+---------------+--------------+\n",
      "|    Fort Pierce|           108|\n",
      "|        Midtown|            78|\n",
      "|West Palm Beach|            54|\n",
      "|           Cary|            52|\n",
      "+---------------+--------------+\n",
      "\n"
     ]
    }
   ],
   "source": [
    "new_df=admin_df.groupBy(\"Source\").agg(count(\"Riders_Name\").alias(\"customer_count\")).orderBy(\"customer_count\",ascending=False)\n",
    "new_df.filter(new_df.customer_count > 50).show()"
   ]
  },
  {
   "cell_type": "markdown",
   "id": "b8fd9de1-0cb8-4edc-9949-c14f5d07aa6e",
   "metadata": {},
   "source": [
    "# 4. Find the top rated drivers in each category"
   ]
  },
  {
   "cell_type": "code",
   "execution_count": 10,
   "id": "5f55bf59-5b77-426f-8027-70b340bb9dcf",
   "metadata": {},
   "outputs": [
    {
     "name": "stdout",
     "output_type": "stream",
     "text": [
      "+-------------+----------------+\n",
      "|Ride_category|top_rated_driver|\n",
      "+-------------+----------------+\n",
      "|         Auto|            Clim|\n",
      "|         Bike|          Editha|\n",
      "|        Prime|           Glori|\n",
      "|   Uber-Micro|          Stefan|\n",
      "|    Uber-Mini|            Berk|\n",
      "+-------------+----------------+\n",
      "\n"
     ]
    }
   ],
   "source": [
    "from pyspark.sql.functions import first\n",
    "admin_df.filter(admin_df.Rating_RI>4.5).groupBy('Ride_category').agg(first(\"Name\").alias(\"top_rated_driver\")).show()"
   ]
  },
  {
   "cell_type": "markdown",
   "id": "d554a1e2-3c39-427e-9519-094c6ded24b9",
   "metadata": {},
   "source": [
    "# 5. Find the most active driver"
   ]
  },
  {
   "cell_type": "code",
   "execution_count": 11,
   "id": "2c212070-0f21-4f86-beb3-67e28866e33e",
   "metadata": {},
   "outputs": [
    {
     "name": "stdout",
     "output_type": "stream",
     "text": [
      "+-----------+-----------+\n",
      "|Driver Name|total_rides|\n",
      "+-----------+-----------+\n",
      "|    Mathian|          2|\n",
      "+-----------+-----------+\n",
      "\n"
     ]
    }
   ],
   "source": [
    "from pyspark.sql.functions import count\n",
    "cus_df.groupBy(\"Driver Name\").agg(count(\"*\").alias(\"total_rides\")).orderBy('total_rides',ascending=False).limit(1).show()"
   ]
  },
  {
   "cell_type": "markdown",
   "id": "f815e30a-20d0-44d0-b26f-668896379ef8",
   "metadata": {},
   "source": [
    "# 6. Find the name of customers whose ride got cancelled due to clouds"
   ]
  },
  {
   "cell_type": "code",
   "execution_count": 12,
   "id": "70d7198f-3bd9-401e-a263-6895ea406e28",
   "metadata": {},
   "outputs": [
    {
     "name": "stdout",
     "output_type": "stream",
     "text": [
      "+------------+\n",
      "| Riders_Name|\n",
      "+------------+\n",
      "|     Johanna|\n",
      "|Maximilianus|\n",
      "|       Daron|\n",
      "|      Sherry|\n",
      "|       Marta|\n",
      "|       Natty|\n",
      "|       Margi|\n",
      "|      Pattin|\n",
      "|       Dalli|\n",
      "|   Katherina|\n",
      "+------------+\n",
      "\n"
     ]
    }
   ],
   "source": [
    "admin_df.filter((admin_df.clouds == True)&(admin_df.Status==\"Cancelled\")).select(\"Riders_Name\").show()"
   ]
  },
  {
   "cell_type": "markdown",
   "id": "2ad730a2-cd74-43c7-ae76-48bdd5329c50",
   "metadata": {},
   "source": [
    "# 7.  Find the customers who choose the payment mode as Phonepe"
   ]
  },
  {
   "cell_type": "code",
   "execution_count": 13,
   "id": "135cf395-d4cd-407c-b971-960fbe371f91",
   "metadata": {},
   "outputs": [
    {
     "name": "stdout",
     "output_type": "stream",
     "text": [
      "+-----------+\n",
      "|Riders_Name|\n",
      "+-----------+\n",
      "|    Charlot|\n",
      "|        Kim|\n",
      "|      Margi|\n",
      "|        Kip|\n",
      "|      Dalli|\n",
      "|  Wadsworth|\n",
      "|   Virginie|\n",
      "|       Roxy|\n",
      "|    Carolus|\n",
      "|    Johanna|\n",
      "|     Ashlee|\n",
      "|    Carmine|\n",
      "|     Shaine|\n",
      "|      Cindi|\n",
      "|     Damien|\n",
      "|       Edin|\n",
      "|    Chelsie|\n",
      "|      Hagan|\n",
      "|    Romonda|\n",
      "|      Amara|\n",
      "+-----------+\n",
      "only showing top 20 rows\n",
      "\n"
     ]
    }
   ],
   "source": [
    "admin_df.filter(admin_df.Payment_mode==\"Phonpe\").select(\"Riders_Name\").show()"
   ]
  },
  {
   "cell_type": "markdown",
   "id": "62a98658-62a4-49e8-b7f0-8c0a2ef1073d",
   "metadata": {},
   "source": [
    "# 8. Find the driver who accepted ride when the weather is cloudy"
   ]
  },
  {
   "cell_type": "code",
   "execution_count": 14,
   "id": "288fb19f-b512-4ca2-849b-c03892bb735c",
   "metadata": {},
   "outputs": [
    {
     "name": "stdout",
     "output_type": "stream",
     "text": [
      "+---------+\n",
      "|     Name|\n",
      "+---------+\n",
      "|  Frazier|\n",
      "|    Bryan|\n",
      "|    Aymer|\n",
      "|    Moore|\n",
      "|     Berk|\n",
      "|  Donavon|\n",
      "|     Karl|\n",
      "| Valentia|\n",
      "|   Aubert|\n",
      "|Annamaria|\n",
      "| Faulkner|\n",
      "|    Yance|\n",
      "|   Robina|\n",
      "|Westbrook|\n",
      "|  Othello|\n",
      "|   Sydney|\n",
      "|   Hadlee|\n",
      "|    Abbey|\n",
      "| Clarette|\n",
      "|     Etti|\n",
      "+---------+\n",
      "only showing top 20 rows\n",
      "\n"
     ]
    }
   ],
   "source": [
    "admin_df.filter((admin_df.clouds==True)&(admin_df.Status==\"Arrived\")).select(\"Name\").show()"
   ]
  },
  {
   "cell_type": "markdown",
   "id": "8ee754af-cc26-45e7-bd23-472f339ac77a",
   "metadata": {},
   "source": [
    "# 9. Find the most used payment method"
   ]
  },
  {
   "cell_type": "code",
   "execution_count": 15,
   "id": "e8b462af-c654-42c7-ab69-4b1572e33cfb",
   "metadata": {},
   "outputs": [
    {
     "name": "stdout",
     "output_type": "stream",
     "text": [
      "+------------+-----------+\n",
      "|Payment_mode|usage_count|\n",
      "+------------+-----------+\n",
      "| Uber wallet|        226|\n",
      "+------------+-----------+\n",
      "\n"
     ]
    }
   ],
   "source": [
    "from pyspark.sql.functions import count\n",
    "admin_df.groupBy(\"Payment_mode\").agg(count(\"*\").alias(\"usage_count\")).orderBy('usage_count',ascending=False).limit(1).show()"
   ]
  },
  {
   "cell_type": "markdown",
   "id": "804976f3-689b-4348-b238-45a1badb6212",
   "metadata": {},
   "source": [
    "# 10. Find the customer who got the maximum discount and display their payment method\n"
   ]
  },
  {
   "cell_type": "code",
   "execution_count": 16,
   "id": "02159c45-5cd4-41cf-b839-2f5fcf53b237",
   "metadata": {},
   "outputs": [
    {
     "name": "stdout",
     "output_type": "stream",
     "text": [
      "+-------+--------+------------+\n",
      "|   Name|Discount|Payment_mode|\n",
      "+-------+--------+------------+\n",
      "|  Deeyn|     10%| Uber wallet|\n",
      "|  Bryan|     10%| Uber wallet|\n",
      "| Crissy|     10%| Uber wallet|\n",
      "| Kendre|     10%| Uber wallet|\n",
      "|  Aymer|     10%| Uber wallet|\n",
      "|Mathian|     10%| Uber wallet|\n",
      "|Maurice|     10%| Uber wallet|\n",
      "|   Timi|     10%| Uber wallet|\n",
      "|  Janey|     10%| Uber wallet|\n",
      "|Huntlee|     10%| Uber wallet|\n",
      "|Pauline|     10%| Uber wallet|\n",
      "|  Tobye|     10%| Uber wallet|\n",
      "|Skipton|     10%| Uber wallet|\n",
      "|Geordie|     10%| Uber wallet|\n",
      "|Etienne|     10%| Uber wallet|\n",
      "|  Lotty|     10%| Uber wallet|\n",
      "|  Raviv|     10%| Uber wallet|\n",
      "|    Ray|     10%| Uber wallet|\n",
      "|  Sally|     10%| Uber wallet|\n",
      "|  Gusta|     10%| Uber wallet|\n",
      "+-------+--------+------------+\n",
      "only showing top 20 rows\n",
      "\n"
     ]
    }
   ],
   "source": [
    "from pyspark.sql.functions import max,col\n",
    "max_discount = admin_df.agg(max(\"Discount\").alias(\"max_disc\")).collect()[0][\"max_disc\"]\n",
    "admin_df.filter(admin_df.Discount==max_discount).select(\"Name\",\"Discount\",\"Payment_mode\").show()"
   ]
  },
  {
   "cell_type": "markdown",
   "id": "5969e6c2-8987-4186-ac03-e314467ad17d",
   "metadata": {},
   "source": [
    "# 11. Find the most popular route"
   ]
  },
  {
   "cell_type": "code",
   "execution_count": 17,
   "id": "580083d3-a2ad-43ec-9d28-8c6a22370042",
   "metadata": {},
   "outputs": [
    {
     "name": "stdout",
     "output_type": "stream",
     "text": [
      "+-------+-----------+-----------+\n",
      "| Source|Destination|route_count|\n",
      "+-------+-----------+-----------+\n",
      "|Midtown|       Cary|         18|\n",
      "+-------+-----------+-----------+\n",
      "\n"
     ]
    }
   ],
   "source": [
    "from pyspark.sql.functions import count\n",
    "admin_df.groupBy(\"Source\",\"Destination\").agg(count(\"*\").alias(\"route_count\")).orderBy('route_count',ascending=False).limit(1).show()"
   ]
  },
  {
   "cell_type": "markdown",
   "id": "701c4891-c0c1-444b-a597-83eca1fe7aca",
   "metadata": {},
   "source": [
    "# 13. Does a driver's vaccination status impact customer ratings"
   ]
  },
  {
   "cell_type": "code",
   "execution_count": 18,
   "id": "a73fbf32-044a-4ac5-891f-d8f2617d6a63",
   "metadata": {},
   "outputs": [
    {
     "name": "stdout",
     "output_type": "stream",
     "text": [
      "+----------+-----------------+\n",
      "|Vaccine_Ri|       Avg_Rating|\n",
      "+----------+-----------------+\n",
      "|       YES|4.062500000000001|\n",
      "|        NO|4.900000000000004|\n",
      "+----------+-----------------+\n",
      "\n"
     ]
    }
   ],
   "source": [
    "from pyspark.sql.functions import avg,sum\n",
    "admin_df.groupBy(\"Vaccine_Ri\").agg(avg(\"Rating_RI\").alias(\"Avg_Rating\")).show()"
   ]
  },
  {
   "cell_type": "markdown",
   "id": "2d59b980-9b9e-4c7c-81f7-55311a64b49d",
   "metadata": {},
   "source": [
    "# 14. Do vaccinated drivers travel long distances on average than unvaccinated drivers"
   ]
  },
  {
   "cell_type": "code",
   "execution_count": 19,
   "id": "67c173d6-969e-4e1f-8330-3532c437fff1",
   "metadata": {},
   "outputs": [
    {
     "name": "stdout",
     "output_type": "stream",
     "text": [
      "+----------+------------------+\n",
      "|Vaccine_Ri|      avg_distance|\n",
      "+----------+------------------+\n",
      "|       YES|10.595000000000002|\n",
      "|        NO|12.945000000000004|\n",
      "+----------+------------------+\n",
      "\n"
     ]
    }
   ],
   "source": [
    "from pyspark.sql.functions import avg\n",
    "admin_df.groupBy(\"Vaccine_Ri\").agg(avg(\"Miles\").alias(\"avg_distance\")).show()"
   ]
  },
  {
   "cell_type": "markdown",
   "id": "62d18096-7659-4bc5-a25f-6fd193ad20b8",
   "metadata": {},
   "source": [
    "# 15. Are there any rides where final cost deviates from estimated price"
   ]
  },
  {
   "cell_type": "code",
   "execution_count": 25,
   "id": "20681679-3296-4148-9209-f345ef17e2be",
   "metadata": {},
   "outputs": [
    {
     "name": "stdout",
     "output_type": "stream",
     "text": [
      "+-------+---------------+---------------+-----------+--------+\n",
      "|   Name|         Source|    Destination|Riders_Name|  Status|\n",
      "+-------+---------------+---------------+-----------+--------+\n",
      "|  Deeyn|    Fort Pierce|West Palm Beach|     Luelle|Assigned|\n",
      "|  Bryan|West Palm Beach|     Palm Beach|     Duncan| Arrived|\n",
      "| Crissy|           Cary|           Cary|     Carine|Assigned|\n",
      "| Kendre|           Cary|    Morrisville|   Collette|Assigned|\n",
      "|  Aymer|        Jamaica|       New York|     Killie| Arrived|\n",
      "|Mathian|        Midtown|   Midtown East|     Mikkel| Arrived|\n",
      "|Maurice|        Midtown|  Hudson Square|  Stanislas|Assigned|\n",
      "|   Timi|  Hudson Square|Lower Manhattan|       Yvon| Arrived|\n",
      "|  Janey|Lower Manhattan|  Hudson Square|      Jaine|Assigned|\n",
      "|Huntlee|    Fort Pierce| Hell's Kitchen|       Abbi|Assigned|\n",
      "|Pauline|           Cary|Jamestown Court|   Dorothee|Assigned|\n",
      "|  Tobye|        Jamaica|         Durham|       Jens| Arrived|\n",
      "|Skipton|       New York|           Cary|       Elsy| Arrived|\n",
      "|Geordie|       Elmhurst|           Cary|     Pattin|Assigned|\n",
      "|Etienne|        Midtown|    Whitebridge|     Aylmer| Arrived|\n",
      "|  Lotty|  Hudson Square|           Cary|      Golda| Arrived|\n",
      "|  Raviv|    Fort Pierce|      Hazelwood|  Rosemaria| Arrived|\n",
      "|    Ray|    Fort Pierce|    Whitebridge|     Haskel|Assigned|\n",
      "|  Sally|    Fort Pierce| Westpark Place|        Ede| Arrived|\n",
      "|  Gusta|    Fort Pierce|           Cary|       Moss|Assigned|\n",
      "+-------+---------------+---------------+-----------+--------+\n",
      "only showing top 20 rows\n",
      "\n"
     ]
    }
   ],
   "source": [
    "admin_df.filter(admin_df.Est_Costing != admin_df.Final_cost).select(\"Name\",\"Source\",\"Destination\",\"Riders_Name\",\"Status\").show()"
   ]
  },
  {
   "cell_type": "markdown",
   "id": "574c023a-b501-4647-a1f2-78399841f01b",
   "metadata": {},
   "source": [
    "# 16. Average Trip Duration by Vehicle Type"
   ]
  },
  {
   "cell_type": "code",
   "execution_count": 31,
   "id": "d8d2f0f9-c64e-400b-9f2d-5366f7751bb5",
   "metadata": {},
   "outputs": [
    {
     "name": "stdout",
     "output_type": "stream",
     "text": [
      "+------------+------------------+\n",
      "|Vehicle Type| avg_trip_duration|\n",
      "+------------+------------------+\n",
      "|        Bike|14.595000000000004|\n",
      "|       Prime|10.278000000000002|\n",
      "|        Auto|             13.68|\n",
      "|   Uber-Mini|             7.602|\n",
      "|  Uber-Micro| 9.169999999999995|\n",
      "+------------+------------------+\n",
      "\n"
     ]
    }
   ],
   "source": [
    "from pyspark.sql.functions import avg\n",
    "cus_df.groupBy(\"Vehicle Type\").agg(avg(\"Trip Duration\").alias(\"avg_trip_duration\")).show()"
   ]
  },
  {
   "cell_type": "markdown",
   "id": "59db97cd-a946-473c-b89e-087f5669854b",
   "metadata": {},
   "source": [
    "# 17. Aggregate total miles covered by city or pin code"
   ]
  },
  {
   "cell_type": "code",
   "execution_count": 35,
   "id": "1df9cdfd-6b2e-4624-9d9a-087b80f86cc0",
   "metadata": {},
   "outputs": [
    {
     "name": "stdout",
     "output_type": "stream",
     "text": [
      "+---------+-------------------+\n",
      "|Pin-Codes|total_miles_covered|\n",
      "+---------+-------------------+\n",
      "|   646882|              288.5|\n",
      "|   509117| 197.70000000000002|\n",
      "|   625132|  850.7999999999998|\n",
      "|   491563| 257.99999999999994|\n",
      "|   125733| 267.70000000000005|\n",
      "|   210314| 355.69999999999993|\n",
      "|   484320|  388.8999999999999|\n",
      "|   318886| 1637.2999999999993|\n",
      "|   386077| 173.59999999999997|\n",
      "|   265814|              534.4|\n",
      "|   475241| 427.69999999999993|\n",
      "|   223672|              152.2|\n",
      "+---------+-------------------+\n",
      "\n"
     ]
    }
   ],
   "source": [
    "from pyspark.sql.functions import sum\n",
    "admin_df.groupBy(\"Pin-Codes\").agg(sum(\"miles\").alias(\"total_miles_covered\")).show()"
   ]
  },
  {
   "cell_type": "markdown",
   "id": "1b9eb081-4ed6-42e4-bb41-7ca8ea3cd69c",
   "metadata": {},
   "source": [
    "# 18. Total cost per unique customer."
   ]
  },
  {
   "cell_type": "code",
   "execution_count": 37,
   "id": "f2a0c8f1-73eb-4f78-91bc-0a7102c2ad66",
   "metadata": {},
   "outputs": [
    {
     "name": "stdout",
     "output_type": "stream",
     "text": [
      "+--------+-------------+\n",
      "|    Name|Final_Costing|\n",
      "+--------+-------------+\n",
      "|  Sianna|        60.75|\n",
      "|   Tessi|        65.66|\n",
      "|   Baron|        252.0|\n",
      "|  Earvin|        297.0|\n",
      "|    Trev|        141.0|\n",
      "|Rosemary|         42.5|\n",
      "|  Lorrin|         59.4|\n",
      "|Melisent|        178.5|\n",
      "|  Susana|       128.25|\n",
      "| Nanette|        27.44|\n",
      "|  Mikkel|        135.0|\n",
      "|   Rocky|       68.796|\n",
      "|  Aubert|        202.0|\n",
      "|Madelene|       1710.0|\n",
      "|  Randee|         76.5|\n",
      "|Violetta|       2389.5|\n",
      "|   Paulo|       68.796|\n",
      "|     Ula|        113.4|\n",
      "|Charissa|         83.7|\n",
      "|Cathleen|        187.2|\n",
      "+--------+-------------+\n",
      "only showing top 20 rows\n",
      "\n"
     ]
    }
   ],
   "source": [
    "admin_df.groupBy(\"Name\").agg(sum(\"Final_cost\").alias(\"Final_Costing\")).show()"
   ]
  },
  {
   "cell_type": "markdown",
   "id": "0d73b335-de9f-49bf-8e9c-fdba463f1db2",
   "metadata": {},
   "source": [
    "# 19. Identify locations with frequent availability of free vehicles"
   ]
  },
  {
   "cell_type": "code",
   "execution_count": 39,
   "id": "a55984ef-b474-44d6-97bf-4b455f355f17",
   "metadata": {},
   "outputs": [
    {
     "name": "stdout",
     "output_type": "stream",
     "text": [
      "+---------------+\n",
      "|         Source|\n",
      "+---------------+\n",
      "|    Fort Pierce|\n",
      "|        Midtown|\n",
      "|   Midtown East|\n",
      "|        Midtown|\n",
      "|West Palm Beach|\n",
      "|Lower Manhattan|\n",
      "|   Midtown East|\n",
      "|West Palm Beach|\n",
      "|    Fort Pierce|\n",
      "|    Fort Pierce|\n",
      "|    Fort Pierce|\n",
      "|       New York|\n",
      "|    Fort Pierce|\n",
      "|           Cary|\n",
      "|       New York|\n",
      "|    East Harlem|\n",
      "|   Midtown East|\n",
      "+---------------+\n",
      "\n"
     ]
    }
   ],
   "source": [
    "admin_df.filter(admin_df.free_vehi== True).select(\"Source\").show()"
   ]
  },
  {
   "cell_type": "code",
   "execution_count": null,
   "id": "59cd67dc-f84e-4921-a241-dc921a8ecb95",
   "metadata": {},
   "outputs": [],
   "source": []
  },
  {
   "cell_type": "markdown",
   "id": "f95163d7-55b3-427d-bc49-200735e3b247",
   "metadata": {},
   "source": [
    "#"
   ]
  }
 ],
 "metadata": {
  "kernelspec": {
   "display_name": "PySpark",
   "language": "python",
   "name": "pyspark"
  },
  "language_info": {
   "codemirror_mode": {
    "name": "ipython",
    "version": 3
   },
   "file_extension": ".py",
   "mimetype": "text/x-python",
   "name": "python",
   "nbconvert_exporter": "python",
   "pygments_lexer": "ipython3",
   "version": "3.11.0"
  }
 },
 "nbformat": 4,
 "nbformat_minor": 5
}
