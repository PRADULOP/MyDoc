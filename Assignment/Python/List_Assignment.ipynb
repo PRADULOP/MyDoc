{
 "cells": [
  {
   "cell_type": "markdown",
   "id": "253f70e2-6e43-4922-bc7e-49a57b506a7b",
   "metadata": {},
   "source": [
    "# ASSIGNMENT 1\n",
    "# Nested list comprehension\n",
    "# matrix = [ [1,2,3,4]\n",
    "#            [6,8,3,4]\n",
    "#            [2,5,6,7]\n",
    "#            [7,3,4,9] ]"
   ]
  },
  {
   "cell_type": "code",
   "execution_count": 1,
   "id": "2e3fca8e-92c3-4833-a792-e094c1e59c9e",
   "metadata": {},
   "outputs": [
    {
     "name": "stdin",
     "output_type": "stream",
     "text": [
      "Enter 16 numbers as space seperated: 1 2 3 4 6 8 3 4 2 5 6 7 7 3 4 9\n"
     ]
    },
    {
     "name": "stdout",
     "output_type": "stream",
     "text": [
      "[1, 2, 3, 4]\n",
      "[6, 8, 3, 4]\n",
      "[2, 5, 6, 7]\n",
      "[7, 3, 4, 9]\n"
     ]
    }
   ],
   "source": [
    "numbers = list(map(int,input(\"Enter 16 numbers as space seperated:\").split()))\n",
    "matrix = [numbers[i:i+4] for i in range(0,len(numbers),4)]\n",
    "for row in matrix:\n",
    "    print(row)"
   ]
  },
  {
   "cell_type": "markdown",
   "id": "8d680d62-0eb7-45f8-aa1d-c2fd3fce06ed",
   "metadata": {},
   "source": [
    "# ASSIGNMENT 2\n",
    "# How to restore data in list which is deleted using pop."
   ]
  },
  {
   "cell_type": "code",
   "execution_count": 2,
   "id": "f30cce57-651c-4e95-85be-77d0b45efae0",
   "metadata": {},
   "outputs": [
    {
     "name": "stdin",
     "output_type": "stream",
     "text": [
      " 1 2 3 4 5\n"
     ]
    },
    {
     "name": "stdout",
     "output_type": "stream",
     "text": [
      "My list before popping: [1, 2, 3, 4, 5]\n",
      "Popped element: 3\n",
      "My list after popping: [1, 2, 4, 5]\n",
      "My list after insertion: [1, 2, 3, 4, 5]\n"
     ]
    }
   ],
   "source": [
    "my_list=list(map(int,input().split()))\n",
    "print(f\"My list before popping: {my_list}\")\n",
    "element=my_list.pop(2)\n",
    "print(f\"Popped element: {element}\")\n",
    "print(f\"My list after popping: {my_list}\")\n",
    "my_list.insert(2,element)\n",
    "print(f\"My list after insertion: {my_list}\")"
   ]
  }
 ],
 "metadata": {
  "kernelspec": {
   "display_name": "Python 3 (ipykernel)",
   "language": "python",
   "name": "python3"
  },
  "language_info": {
   "codemirror_mode": {
    "name": "ipython",
    "version": 3
   },
   "file_extension": ".py",
   "mimetype": "text/x-python",
   "name": "python",
   "nbconvert_exporter": "python",
   "pygments_lexer": "ipython3",
   "version": "3.11.0"
  }
 },
 "nbformat": 4,
 "nbformat_minor": 5
}
