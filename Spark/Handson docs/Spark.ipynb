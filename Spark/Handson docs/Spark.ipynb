{
 "cells": [
  {
   "cell_type": "code",
   "execution_count": 1,
   "id": "a3cc2a2c-4e6d-48fe-a788-d595985a1a39",
   "metadata": {},
   "outputs": [
    {
     "name": "stdout",
     "output_type": "stream",
     "text": [
      "Spark version: 3.5.5\n"
     ]
    }
   ],
   "source": [
    "import findspark\n",
    "findspark.init()  # Automatically finds and sets SPARK_HOME\n",
    "\n",
    "from pyspark.sql import SparkSession\n",
    "\n",
    "spark = SparkSession.builder \\\n",
    "    .appName(\"MyApp\") \\\n",
    "    .master(\"local[*]\") \\\n",
    "    .getOrCreate()\n",
    "\n",
    "# Check Spark version\n",
    "print(\"Spark version:\", spark.version)\n",
    "sc=spark.sparkContext"
   ]
  },
  {
   "cell_type": "code",
   "execution_count": 2,
   "id": "e162fcb5-10f8-4a4a-99a2-82b6e5b51b8b",
   "metadata": {},
   "outputs": [
    {
     "data": {
      "text/plain": [
       "[1, 2, 3, 4, 5]"
      ]
     },
     "execution_count": 2,
     "metadata": {},
     "output_type": "execute_result"
    }
   ],
   "source": [
    "rdd=sc.parallelize([1,2,3,4,5])\n",
    "rdd.collect()"
   ]
  },
  {
   "cell_type": "code",
   "execution_count": 4,
   "id": "75f41f08-c840-45e2-ad3e-2511daf43130",
   "metadata": {},
   "outputs": [
    {
     "data": {
      "text/plain": [
       "5"
      ]
     },
     "execution_count": 4,
     "metadata": {},
     "output_type": "execute_result"
    }
   ],
   "source": [
    "rdd.count()"
   ]
  },
  {
   "cell_type": "code",
   "execution_count": 5,
   "id": "635c91fd-e765-45cc-a6e7-3207c7e14ff1",
   "metadata": {},
   "outputs": [
    {
     "data": {
      "text/plain": [
       "1"
      ]
     },
     "execution_count": 5,
     "metadata": {},
     "output_type": "execute_result"
    }
   ],
   "source": [
    "rdd.first()"
   ]
  },
  {
   "cell_type": "code",
   "execution_count": 6,
   "id": "5c496407-975d-4290-8e87-e948cd2f0691",
   "metadata": {},
   "outputs": [
    {
     "data": {
      "text/plain": [
       "[1, 2, 3]"
      ]
     },
     "execution_count": 6,
     "metadata": {},
     "output_type": "execute_result"
    }
   ],
   "source": [
    "rdd.take(3)"
   ]
  },
  {
   "cell_type": "code",
   "execution_count": 7,
   "id": "84a4308f-2317-4e43-b76e-d36e51d7c050",
   "metadata": {},
   "outputs": [
    {
     "data": {
      "text/plain": [
       "[2, 4, 6, 8, 10]"
      ]
     },
     "execution_count": 7,
     "metadata": {},
     "output_type": "execute_result"
    }
   ],
   "source": [
    "rdd.map(lambda x:x*2).collect()"
   ]
  },
  {
   "cell_type": "code",
   "execution_count": 8,
   "id": "4f699d97-c306-4077-8633-c9f5103162f4",
   "metadata": {},
   "outputs": [
    {
     "data": {
      "text/plain": [
       "[2, 4]"
      ]
     },
     "execution_count": 8,
     "metadata": {},
     "output_type": "execute_result"
    }
   ],
   "source": [
    "rdd.filter(lambda x:x%2==0).collect()"
   ]
  },
  {
   "cell_type": "code",
   "execution_count": 9,
   "id": "26534be3-1e7d-472c-9886-a8495d52a76e",
   "metadata": {},
   "outputs": [
    {
     "data": {
      "text/plain": [
       "['hello', 'world']"
      ]
     },
     "execution_count": 9,
     "metadata": {},
     "output_type": "execute_result"
    }
   ],
   "source": [
    "sc.parallelize([\"hello world\"]).flatMap(lambda x:x.split(\" \")).collect()"
   ]
  },
  {
   "cell_type": "code",
   "execution_count": 10,
   "id": "9ddd931c-83b1-44cb-aac2-cd7a98ffd7a5",
   "metadata": {},
   "outputs": [
    {
     "data": {
      "text/plain": [
       "15"
      ]
     },
     "execution_count": 10,
     "metadata": {},
     "output_type": "execute_result"
    }
   ],
   "source": [
    "rdd.reduce(lambda x,y:x+y)"
   ]
  },
  {
   "cell_type": "code",
   "execution_count": 11,
   "id": "aaa1412f-c449-4afe-af81-0f3b986731ce",
   "metadata": {},
   "outputs": [
    {
     "data": {
      "text/plain": [
       "[1, 2, 3, 4, 5]"
      ]
     },
     "execution_count": 11,
     "metadata": {},
     "output_type": "execute_result"
    }
   ],
   "source": [
    "rdd.distinct().collect()"
   ]
  },
  {
   "cell_type": "code",
   "execution_count": 12,
   "id": "c1f47168-9e27-4cbc-857c-6001bed9a757",
   "metadata": {},
   "outputs": [
    {
     "data": {
      "text/plain": [
       "[5, 4, 3, 2, 1]"
      ]
     },
     "execution_count": 12,
     "metadata": {},
     "output_type": "execute_result"
    }
   ],
   "source": [
    "rdd.sortBy(lambda x:-x).collect()"
   ]
  },
  {
   "cell_type": "code",
   "execution_count": 13,
   "id": "851d169e-1a35-46d3-b79e-a82c5f1cc38a",
   "metadata": {},
   "outputs": [],
   "source": [
    "rdd1=sc.parallelize([1,2,3,4,5])\n",
    "rdd2=sc.parallelize([5,2,8,4,7])"
   ]
  },
  {
   "cell_type": "code",
   "execution_count": 14,
   "id": "c61685a0-2446-4a1a-924d-403b8fba8166",
   "metadata": {},
   "outputs": [
    {
     "data": {
      "text/plain": [
       "[1, 2, 3, 4, 5, 5, 2, 8, 4, 7]"
      ]
     },
     "execution_count": 14,
     "metadata": {},
     "output_type": "execute_result"
    }
   ],
   "source": [
    "rdd1.union(rdd2).collect()"
   ]
  },
  {
   "cell_type": "code",
   "execution_count": 15,
   "id": "fb1d2291-87af-4f49-86f1-b03bd7b4ad25",
   "metadata": {},
   "outputs": [
    {
     "data": {
      "text/plain": [
       "[2, 4, 5]"
      ]
     },
     "execution_count": 15,
     "metadata": {},
     "output_type": "execute_result"
    }
   ],
   "source": [
    "rdd1.intersection(rdd2).collect()"
   ]
  },
  {
   "cell_type": "code",
   "execution_count": 16,
   "id": "7bc10047-8d76-46c7-b8fd-0294f16005ea",
   "metadata": {},
   "outputs": [
    {
     "data": {
      "text/plain": [
       "[1, 3]"
      ]
     },
     "execution_count": 16,
     "metadata": {},
     "output_type": "execute_result"
    }
   ],
   "source": [
    "rdd1.subtract(rdd2).collect()"
   ]
  },
  {
   "cell_type": "code",
   "execution_count": 17,
   "id": "5cc9194d-a96a-4058-9127-d4dc995e009d",
   "metadata": {},
   "outputs": [
    {
     "data": {
      "text/plain": [
       "[(1, 5),\n",
       " (1, 2),\n",
       " (1, 8),\n",
       " (1, 4),\n",
       " (1, 7),\n",
       " (2, 5),\n",
       " (2, 2),\n",
       " (2, 8),\n",
       " (2, 4),\n",
       " (2, 7),\n",
       " (3, 5),\n",
       " (3, 2),\n",
       " (3, 8),\n",
       " (3, 4),\n",
       " (3, 7),\n",
       " (4, 5),\n",
       " (4, 2),\n",
       " (4, 8),\n",
       " (4, 4),\n",
       " (4, 7),\n",
       " (5, 5),\n",
       " (5, 2),\n",
       " (5, 8),\n",
       " (5, 4),\n",
       " (5, 7)]"
      ]
     },
     "execution_count": 17,
     "metadata": {},
     "output_type": "execute_result"
    }
   ],
   "source": [
    "rdd1.cartesian(rdd2).collect()"
   ]
  },
  {
   "cell_type": "code",
   "execution_count": 19,
   "id": "b405b4ac-ee02-4197-9a27-e356a4432753",
   "metadata": {},
   "outputs": [],
   "source": [
    "pair_rdd=sc.parallelize([(\"a\",1),(\"b\",2),(\"a\",3)])"
   ]
  },
  {
   "cell_type": "code",
   "execution_count": 20,
   "id": "e629dd5e-376a-4efa-a51f-1381174348ad",
   "metadata": {},
   "outputs": [
    {
     "data": {
      "text/plain": [
       "[('b', [2]), ('a', [1, 3])]"
      ]
     },
     "execution_count": 20,
     "metadata": {},
     "output_type": "execute_result"
    }
   ],
   "source": [
    "pair_rdd.groupByKey().mapValues(list).collect()"
   ]
  },
  {
   "cell_type": "code",
   "execution_count": 22,
   "id": "ca7faf93-fc93-492d-83bc-4728a8dd23d0",
   "metadata": {},
   "outputs": [
    {
     "data": {
      "text/plain": [
       "[('b', 2), ('a', 4)]"
      ]
     },
     "execution_count": 22,
     "metadata": {},
     "output_type": "execute_result"
    }
   ],
   "source": [
    "pair_rdd.reduceByKey(lambda x,y:x+y).collect()"
   ]
  },
  {
   "cell_type": "code",
   "execution_count": 23,
   "id": "330b40b4-e5a4-44fd-9c3e-740952aacee7",
   "metadata": {},
   "outputs": [
    {
     "data": {
      "text/plain": [
       "defaultdict(int, {1: 1, 2: 1, 3: 1, 4: 1, 5: 1})"
      ]
     },
     "execution_count": 23,
     "metadata": {},
     "output_type": "execute_result"
    }
   ],
   "source": [
    "rdd.countByValue()"
   ]
  },
  {
   "cell_type": "code",
   "execution_count": 24,
   "id": "b31d391d-88de-4ca8-a435-76f519fbae37",
   "metadata": {},
   "outputs": [],
   "source": [
    "pair_rdd1=sc.parallelize([(\"1\",2),(\"1\",3),(\"2\",3),(\"2\",4),(\"3\",2),(\"4\",3),(\"5\",9),(\"5\",8),(\"5\",5)])"
   ]
  },
  {
   "cell_type": "code",
   "execution_count": 26,
   "id": "bb3695ad-2fd4-49a9-9960-ca7e783f41f9",
   "metadata": {},
   "outputs": [
    {
     "data": {
      "text/plain": [
       "[('5', [9, 8, 5]), ('2', [3, 4]), ('3', [2]), ('4', [3]), ('1', [2, 3])]"
      ]
     },
     "execution_count": 26,
     "metadata": {},
     "output_type": "execute_result"
    }
   ],
   "source": [
    "pair_rdd1.groupByKey().mapValues(list).collect()"
   ]
  },
  {
   "cell_type": "code",
   "execution_count": 27,
   "id": "3c837000-a9c1-40ad-8200-66d711d1ada9",
   "metadata": {},
   "outputs": [
    {
     "data": {
      "text/plain": [
       "[('5', 22), ('2', 7), ('3', 2), ('4', 3), ('1', 5)]"
      ]
     },
     "execution_count": 27,
     "metadata": {},
     "output_type": "execute_result"
    }
   ],
   "source": [
    "pair_rdd1.reduceByKey(lambda x,y:x+y).collect()"
   ]
  },
  {
   "cell_type": "code",
   "execution_count": 47,
   "id": "366d94fa-baf8-4375-a2d5-710881edc81c",
   "metadata": {},
   "outputs": [],
   "source": [
    "new_rdd = sc.textFile(\"EVM.txt\")"
   ]
  },
  {
   "cell_type": "code",
   "execution_count": 48,
   "id": "0ba5de90-cfd4-44ce-afd3-064174d274ab",
   "metadata": {},
   "outputs": [
    {
     "data": {
      "text/plain": [
       "['LDF BJP IUF ADMK TVK LDF BJP IUF ADMK TVK',\n",
       " 'LDF BJP IUF ADMK TVK LDF BJP IUF ADMK TVK',\n",
       " 'LDF BJP IUF ADMK TVK LDF BJP IUF ADMK TVK',\n",
       " 'LDF BJP IUF ADMK TVK LDF BJP IUF ADMK TVK',\n",
       " 'LDF BJP IUF ADMK TVK LDF BJP IUF ADMK TVK',\n",
       " 'LDF BJP IUF ADMK TVK LDF BJP IUF ADMK TVK',\n",
       " 'LDF BJP IUF ADMK TVK LDF BJP IUF ADMK TVK',\n",
       " 'TVK ADMK IUF BJP LDF TVK ADMK IUF BJP LDF',\n",
       " 'TVK ADMK IUF BJP LDF TVK ADMK IUF BJP LDF',\n",
       " 'TVK ADMK IUF BJP LDF TVK ADMK IUF BJP LDF',\n",
       " 'TVK ADMK IUF BJP LDF TVK ADMK IUF BJP LDF',\n",
       " 'TVK ADMK IUF BJP LDF TVK ADMK IUF BJP LDF',\n",
       " 'TVK ADMK IUF BJP LDF TVK ADMK IUF BJP LDF',\n",
       " 'TVK ADMK IUF BJP LDF TVK ADMK IUF BJP LDF']"
      ]
     },
     "execution_count": 48,
     "metadata": {},
     "output_type": "execute_result"
    }
   ],
   "source": [
    "new_rdd.collect()"
   ]
  },
  {
   "cell_type": "code",
   "execution_count": 49,
   "id": "ecb72388-cf17-4db3-9e5e-94c33cf112e9",
   "metadata": {},
   "outputs": [
    {
     "data": {
      "text/plain": [
       "defaultdict(int,\n",
       "            {'LDF BJP IUF ADMK TVK LDF BJP IUF ADMK TVK': 7,\n",
       "             'TVK ADMK IUF BJP LDF TVK ADMK IUF BJP LDF': 7})"
      ]
     },
     "execution_count": 49,
     "metadata": {},
     "output_type": "execute_result"
    }
   ],
   "source": [
    "new_rdd.countByValue()"
   ]
  },
  {
   "cell_type": "code",
   "execution_count": 58,
   "id": "942742d2-de15-4171-8653-d193bf1e148f",
   "metadata": {},
   "outputs": [
    {
     "data": {
      "text/plain": [
       "['LDF',\n",
       " 'BJP',\n",
       " 'IUF',\n",
       " 'ADMK',\n",
       " 'TVK',\n",
       " 'LDF',\n",
       " 'BJP',\n",
       " 'IUF',\n",
       " 'ADMK',\n",
       " 'TVK',\n",
       " 'LDF',\n",
       " 'BJP',\n",
       " 'IUF',\n",
       " 'ADMK',\n",
       " 'TVK',\n",
       " 'LDF',\n",
       " 'BJP',\n",
       " 'IUF',\n",
       " 'ADMK',\n",
       " 'TVK',\n",
       " 'LDF',\n",
       " 'BJP',\n",
       " 'IUF',\n",
       " 'ADMK',\n",
       " 'TVK',\n",
       " 'LDF',\n",
       " 'BJP',\n",
       " 'IUF',\n",
       " 'ADMK',\n",
       " 'TVK',\n",
       " 'LDF',\n",
       " 'BJP',\n",
       " 'IUF',\n",
       " 'ADMK',\n",
       " 'TVK',\n",
       " 'LDF',\n",
       " 'BJP',\n",
       " 'IUF',\n",
       " 'ADMK',\n",
       " 'TVK',\n",
       " 'LDF',\n",
       " 'BJP',\n",
       " 'IUF',\n",
       " 'ADMK',\n",
       " 'TVK',\n",
       " 'LDF',\n",
       " 'BJP',\n",
       " 'IUF',\n",
       " 'ADMK',\n",
       " 'TVK',\n",
       " 'LDF',\n",
       " 'BJP',\n",
       " 'IUF',\n",
       " 'ADMK',\n",
       " 'TVK',\n",
       " 'LDF',\n",
       " 'BJP',\n",
       " 'IUF',\n",
       " 'ADMK',\n",
       " 'TVK',\n",
       " 'LDF',\n",
       " 'BJP',\n",
       " 'IUF',\n",
       " 'ADMK',\n",
       " 'TVK',\n",
       " 'LDF',\n",
       " 'BJP',\n",
       " 'IUF',\n",
       " 'ADMK',\n",
       " 'TVK',\n",
       " 'TVK',\n",
       " 'ADMK',\n",
       " 'IUF',\n",
       " 'BJP',\n",
       " 'LDF',\n",
       " 'TVK',\n",
       " 'ADMK',\n",
       " 'IUF',\n",
       " 'BJP',\n",
       " 'LDF',\n",
       " 'TVK',\n",
       " 'ADMK',\n",
       " 'IUF',\n",
       " 'BJP',\n",
       " 'LDF',\n",
       " 'TVK',\n",
       " 'ADMK',\n",
       " 'IUF',\n",
       " 'BJP',\n",
       " 'LDF',\n",
       " 'TVK',\n",
       " 'ADMK',\n",
       " 'IUF',\n",
       " 'BJP',\n",
       " 'LDF',\n",
       " 'TVK',\n",
       " 'ADMK',\n",
       " 'IUF',\n",
       " 'BJP',\n",
       " 'LDF',\n",
       " 'TVK',\n",
       " 'ADMK',\n",
       " 'IUF',\n",
       " 'BJP',\n",
       " 'LDF',\n",
       " 'TVK',\n",
       " 'ADMK',\n",
       " 'IUF',\n",
       " 'BJP',\n",
       " 'LDF',\n",
       " 'TVK',\n",
       " 'ADMK',\n",
       " 'IUF',\n",
       " 'BJP',\n",
       " 'LDF',\n",
       " 'TVK',\n",
       " 'ADMK',\n",
       " 'IUF',\n",
       " 'BJP',\n",
       " 'LDF',\n",
       " 'TVK',\n",
       " 'ADMK',\n",
       " 'IUF',\n",
       " 'BJP',\n",
       " 'LDF',\n",
       " 'TVK',\n",
       " 'ADMK',\n",
       " 'IUF',\n",
       " 'BJP',\n",
       " 'LDF',\n",
       " 'TVK',\n",
       " 'ADMK',\n",
       " 'IUF',\n",
       " 'BJP',\n",
       " 'LDF',\n",
       " 'TVK',\n",
       " 'ADMK',\n",
       " 'IUF',\n",
       " 'BJP',\n",
       " 'LDF']"
      ]
     },
     "execution_count": 58,
     "metadata": {},
     "output_type": "execute_result"
    }
   ],
   "source": [
    "rdd_new = new_rdd.flatMap(lambda x: x.split(\" \"))\n",
    "rdd_new.collect()"
   ]
  },
  {
   "cell_type": "code",
   "execution_count": 60,
   "id": "635a6311-0d3f-4730-b424-26e9c86dd976",
   "metadata": {},
   "outputs": [
    {
     "data": {
      "text/plain": [
       "defaultdict(int, {'LDF': 28, 'BJP': 28, 'IUF': 28, 'ADMK': 28, 'TVK': 28})"
      ]
     },
     "execution_count": 60,
     "metadata": {},
     "output_type": "execute_result"
    }
   ],
   "source": [
    "rdd_new.countByValue()"
   ]
  },
  {
   "cell_type": "markdown",
   "id": "749350d2-880b-4348-b085-e32831eaf9dc",
   "metadata": {},
   "source": [
    "# OR METHOD"
   ]
  },
  {
   "cell_type": "code",
   "execution_count": 63,
   "id": "1044618d-77fe-4f0c-ae3a-ab16e7bfad47",
   "metadata": {},
   "outputs": [
    {
     "data": {
      "text/plain": [
       "['LDF BJP IUF ADMK TVK LDF BJP IUF ADMK TVK',\n",
       " 'LDF BJP IUF ADMK TVK LDF BJP IUF ADMK TVK',\n",
       " 'LDF BJP IUF ADMK TVK LDF BJP IUF ADMK TVK',\n",
       " 'LDF BJP IUF ADMK TVK LDF BJP IUF ADMK TVK',\n",
       " 'LDF BJP IUF ADMK TVK LDF BJP IUF ADMK TVK',\n",
       " 'LDF BJP IUF ADMK TVK LDF BJP IUF ADMK TVK',\n",
       " 'LDF BJP IUF ADMK TVK LDF BJP IUF ADMK TVK',\n",
       " 'TVK ADMK IUF BJP LDF TVK ADMK IUF BJP LDF',\n",
       " 'TVK ADMK IUF BJP LDF TVK ADMK IUF BJP LDF',\n",
       " 'TVK ADMK IUF BJP LDF TVK ADMK IUF BJP LDF',\n",
       " 'TVK ADMK IUF BJP LDF TVK ADMK IUF BJP LDF',\n",
       " 'TVK ADMK IUF BJP LDF TVK ADMK IUF BJP LDF',\n",
       " 'TVK ADMK IUF BJP LDF TVK ADMK IUF BJP LDF',\n",
       " 'TVK ADMK IUF BJP LDF TVK ADMK IUF BJP LDF']"
      ]
     },
     "execution_count": 63,
     "metadata": {},
     "output_type": "execute_result"
    }
   ],
   "source": [
    "new_rdd = sc.textFile(\"EVM.txt\")\n",
    "new_rdd.collect()"
   ]
  },
  {
   "cell_type": "code",
   "execution_count": 65,
   "id": "1017031d-03a5-415a-a2bd-c6bfe279bc1f",
   "metadata": {},
   "outputs": [
    {
     "data": {
      "text/plain": [
       "['LDF',\n",
       " 'BJP',\n",
       " 'IUF',\n",
       " 'ADMK',\n",
       " 'TVK',\n",
       " 'LDF',\n",
       " 'BJP',\n",
       " 'IUF',\n",
       " 'ADMK',\n",
       " 'TVK',\n",
       " 'LDF',\n",
       " 'BJP',\n",
       " 'IUF',\n",
       " 'ADMK',\n",
       " 'TVK',\n",
       " 'LDF',\n",
       " 'BJP',\n",
       " 'IUF',\n",
       " 'ADMK',\n",
       " 'TVK',\n",
       " 'LDF',\n",
       " 'BJP',\n",
       " 'IUF',\n",
       " 'ADMK',\n",
       " 'TVK',\n",
       " 'LDF',\n",
       " 'BJP',\n",
       " 'IUF',\n",
       " 'ADMK',\n",
       " 'TVK',\n",
       " 'LDF',\n",
       " 'BJP',\n",
       " 'IUF',\n",
       " 'ADMK',\n",
       " 'TVK',\n",
       " 'LDF',\n",
       " 'BJP',\n",
       " 'IUF',\n",
       " 'ADMK',\n",
       " 'TVK',\n",
       " 'LDF',\n",
       " 'BJP',\n",
       " 'IUF',\n",
       " 'ADMK',\n",
       " 'TVK',\n",
       " 'LDF',\n",
       " 'BJP',\n",
       " 'IUF',\n",
       " 'ADMK',\n",
       " 'TVK',\n",
       " 'LDF',\n",
       " 'BJP',\n",
       " 'IUF',\n",
       " 'ADMK',\n",
       " 'TVK',\n",
       " 'LDF',\n",
       " 'BJP',\n",
       " 'IUF',\n",
       " 'ADMK',\n",
       " 'TVK',\n",
       " 'LDF',\n",
       " 'BJP',\n",
       " 'IUF',\n",
       " 'ADMK',\n",
       " 'TVK',\n",
       " 'LDF',\n",
       " 'BJP',\n",
       " 'IUF',\n",
       " 'ADMK',\n",
       " 'TVK',\n",
       " 'TVK',\n",
       " 'ADMK',\n",
       " 'IUF',\n",
       " 'BJP',\n",
       " 'LDF',\n",
       " 'TVK',\n",
       " 'ADMK',\n",
       " 'IUF',\n",
       " 'BJP',\n",
       " 'LDF',\n",
       " 'TVK',\n",
       " 'ADMK',\n",
       " 'IUF',\n",
       " 'BJP',\n",
       " 'LDF',\n",
       " 'TVK',\n",
       " 'ADMK',\n",
       " 'IUF',\n",
       " 'BJP',\n",
       " 'LDF',\n",
       " 'TVK',\n",
       " 'ADMK',\n",
       " 'IUF',\n",
       " 'BJP',\n",
       " 'LDF',\n",
       " 'TVK',\n",
       " 'ADMK',\n",
       " 'IUF',\n",
       " 'BJP',\n",
       " 'LDF',\n",
       " 'TVK',\n",
       " 'ADMK',\n",
       " 'IUF',\n",
       " 'BJP',\n",
       " 'LDF',\n",
       " 'TVK',\n",
       " 'ADMK',\n",
       " 'IUF',\n",
       " 'BJP',\n",
       " 'LDF',\n",
       " 'TVK',\n",
       " 'ADMK',\n",
       " 'IUF',\n",
       " 'BJP',\n",
       " 'LDF',\n",
       " 'TVK',\n",
       " 'ADMK',\n",
       " 'IUF',\n",
       " 'BJP',\n",
       " 'LDF',\n",
       " 'TVK',\n",
       " 'ADMK',\n",
       " 'IUF',\n",
       " 'BJP',\n",
       " 'LDF',\n",
       " 'TVK',\n",
       " 'ADMK',\n",
       " 'IUF',\n",
       " 'BJP',\n",
       " 'LDF',\n",
       " 'TVK',\n",
       " 'ADMK',\n",
       " 'IUF',\n",
       " 'BJP',\n",
       " 'LDF',\n",
       " 'TVK',\n",
       " 'ADMK',\n",
       " 'IUF',\n",
       " 'BJP',\n",
       " 'LDF']"
      ]
     },
     "execution_count": 65,
     "metadata": {},
     "output_type": "execute_result"
    }
   ],
   "source": [
    "words_rdd=new_rdd.flatMap(lambda x:x.split(\" \"))\n",
    "words_rdd.collect()"
   ]
  },
  {
   "cell_type": "code",
   "execution_count": 66,
   "id": "5baa50cc-d010-4a4a-ab90-14b7417333dc",
   "metadata": {},
   "outputs": [
    {
     "data": {
      "text/plain": [
       "[('LDF', 1),\n",
       " ('BJP', 1),\n",
       " ('IUF', 1),\n",
       " ('ADMK', 1),\n",
       " ('TVK', 1),\n",
       " ('LDF', 1),\n",
       " ('BJP', 1),\n",
       " ('IUF', 1),\n",
       " ('ADMK', 1),\n",
       " ('TVK', 1),\n",
       " ('LDF', 1),\n",
       " ('BJP', 1),\n",
       " ('IUF', 1),\n",
       " ('ADMK', 1),\n",
       " ('TVK', 1),\n",
       " ('LDF', 1),\n",
       " ('BJP', 1),\n",
       " ('IUF', 1),\n",
       " ('ADMK', 1),\n",
       " ('TVK', 1),\n",
       " ('LDF', 1),\n",
       " ('BJP', 1),\n",
       " ('IUF', 1),\n",
       " ('ADMK', 1),\n",
       " ('TVK', 1),\n",
       " ('LDF', 1),\n",
       " ('BJP', 1),\n",
       " ('IUF', 1),\n",
       " ('ADMK', 1),\n",
       " ('TVK', 1),\n",
       " ('LDF', 1),\n",
       " ('BJP', 1),\n",
       " ('IUF', 1),\n",
       " ('ADMK', 1),\n",
       " ('TVK', 1),\n",
       " ('LDF', 1),\n",
       " ('BJP', 1),\n",
       " ('IUF', 1),\n",
       " ('ADMK', 1),\n",
       " ('TVK', 1),\n",
       " ('LDF', 1),\n",
       " ('BJP', 1),\n",
       " ('IUF', 1),\n",
       " ('ADMK', 1),\n",
       " ('TVK', 1),\n",
       " ('LDF', 1),\n",
       " ('BJP', 1),\n",
       " ('IUF', 1),\n",
       " ('ADMK', 1),\n",
       " ('TVK', 1),\n",
       " ('LDF', 1),\n",
       " ('BJP', 1),\n",
       " ('IUF', 1),\n",
       " ('ADMK', 1),\n",
       " ('TVK', 1),\n",
       " ('LDF', 1),\n",
       " ('BJP', 1),\n",
       " ('IUF', 1),\n",
       " ('ADMK', 1),\n",
       " ('TVK', 1),\n",
       " ('LDF', 1),\n",
       " ('BJP', 1),\n",
       " ('IUF', 1),\n",
       " ('ADMK', 1),\n",
       " ('TVK', 1),\n",
       " ('LDF', 1),\n",
       " ('BJP', 1),\n",
       " ('IUF', 1),\n",
       " ('ADMK', 1),\n",
       " ('TVK', 1),\n",
       " ('TVK', 1),\n",
       " ('ADMK', 1),\n",
       " ('IUF', 1),\n",
       " ('BJP', 1),\n",
       " ('LDF', 1),\n",
       " ('TVK', 1),\n",
       " ('ADMK', 1),\n",
       " ('IUF', 1),\n",
       " ('BJP', 1),\n",
       " ('LDF', 1),\n",
       " ('TVK', 1),\n",
       " ('ADMK', 1),\n",
       " ('IUF', 1),\n",
       " ('BJP', 1),\n",
       " ('LDF', 1),\n",
       " ('TVK', 1),\n",
       " ('ADMK', 1),\n",
       " ('IUF', 1),\n",
       " ('BJP', 1),\n",
       " ('LDF', 1),\n",
       " ('TVK', 1),\n",
       " ('ADMK', 1),\n",
       " ('IUF', 1),\n",
       " ('BJP', 1),\n",
       " ('LDF', 1),\n",
       " ('TVK', 1),\n",
       " ('ADMK', 1),\n",
       " ('IUF', 1),\n",
       " ('BJP', 1),\n",
       " ('LDF', 1),\n",
       " ('TVK', 1),\n",
       " ('ADMK', 1),\n",
       " ('IUF', 1),\n",
       " ('BJP', 1),\n",
       " ('LDF', 1),\n",
       " ('TVK', 1),\n",
       " ('ADMK', 1),\n",
       " ('IUF', 1),\n",
       " ('BJP', 1),\n",
       " ('LDF', 1),\n",
       " ('TVK', 1),\n",
       " ('ADMK', 1),\n",
       " ('IUF', 1),\n",
       " ('BJP', 1),\n",
       " ('LDF', 1),\n",
       " ('TVK', 1),\n",
       " ('ADMK', 1),\n",
       " ('IUF', 1),\n",
       " ('BJP', 1),\n",
       " ('LDF', 1),\n",
       " ('TVK', 1),\n",
       " ('ADMK', 1),\n",
       " ('IUF', 1),\n",
       " ('BJP', 1),\n",
       " ('LDF', 1),\n",
       " ('TVK', 1),\n",
       " ('ADMK', 1),\n",
       " ('IUF', 1),\n",
       " ('BJP', 1),\n",
       " ('LDF', 1),\n",
       " ('TVK', 1),\n",
       " ('ADMK', 1),\n",
       " ('IUF', 1),\n",
       " ('BJP', 1),\n",
       " ('LDF', 1),\n",
       " ('TVK', 1),\n",
       " ('ADMK', 1),\n",
       " ('IUF', 1),\n",
       " ('BJP', 1),\n",
       " ('LDF', 1)]"
      ]
     },
     "execution_count": 66,
     "metadata": {},
     "output_type": "execute_result"
    }
   ],
   "source": [
    "pair_rdd=words_rdd.map(lambda x:(x,1))\n",
    "pair_rdd.collect()"
   ]
  },
  {
   "cell_type": "code",
   "execution_count": 69,
   "id": "c485751d-bb5c-43e7-8e70-fbbb9ce78412",
   "metadata": {},
   "outputs": [
    {
     "data": {
      "text/plain": [
       "[('LDF', 28), ('IUF', 28), ('TVK', 28), ('BJP', 28), ('ADMK', 28)]"
      ]
     },
     "execution_count": 69,
     "metadata": {},
     "output_type": "execute_result"
    }
   ],
   "source": [
    "word_counts = pair_rdd.reduceByKey(lambda x,y:x+y)\n",
    "word_counts.collect()"
   ]
  },
  {
   "cell_type": "code",
   "execution_count": 71,
   "id": "185ccab8-a098-4285-8ecf-6bde378865ee",
   "metadata": {},
   "outputs": [],
   "source": [
    "emp_data = [\n",
    "    [\"001\", \"101\", \"John Doe\", \"30\", \"Male\", \"50000\", \"2015-01-01\"],\n",
    "    [\"002\", \"102\", \"Jane Smith\", \"28\", \"Female\", \"52000\", \"2016-03-15\"],\n",
    "    [\"003\", \"103\", \"Robert Brown\", \"35\", \"Male\", \"60000\", \"2014-07-22\"],\n",
    "    [\"004\", \"104\", \"Emily Johnson\", \"32\", \"Female\", \"58000\", \"2017-10-10\"],\n",
    "    [\"005\", \"105\", \"Michael Davis\", \"40\", \"Male\", \"65000\", \"2013-12-05\"],\n",
    "    [\"006\", \"106\", \"Sarah Wilson\", \"29\", \"Female\", \"54000\", \"2018-06-30\"],\n",
    "    [\"007\", \"107\", \"David Martinez\", \"31\", \"Male\", \"57000\", \"2016-09-25\"],\n",
    "    [\"008\", \"108\", \"Laura Garcia\", \"27\", \"Female\", \"51000\", \"2019-02-18\"],\n",
    "    [\"009\", \"109\", \"James Thomas\", \"38\", \"Male\", \"62000\", \"2015-05-14\"],\n",
    "    [\"010\", \"110\", \"Olivia Hernandez\", \"33\", \"Female\", \"59000\", \"2014-11-08\"]\n",
    "]"
   ]
  },
  {
   "cell_type": "code",
   "execution_count": 73,
   "id": "4f055e2f-cc8e-4b54-815b-1562f52ec184",
   "metadata": {},
   "outputs": [],
   "source": [
    "columns = \"employee_ID string, department_id string, name string, age string, gender string, salary string, hire_date string\""
   ]
  },
  {
   "cell_type": "code",
   "execution_count": 74,
   "id": "2b4c5848-fe85-4f6e-a690-54e19b8d1388",
   "metadata": {},
   "outputs": [],
   "source": [
    "emp = spark.createDataFrame(data=emp_data,schema=columns)"
   ]
  },
  {
   "cell_type": "code",
   "execution_count": 75,
   "id": "ebe942e8-fdd5-44dd-9233-6c337af395e5",
   "metadata": {},
   "outputs": [
    {
     "name": "stdout",
     "output_type": "stream",
     "text": [
      "+-----------+-------------+----------------+---+------+------+----------+\n",
      "|employee_ID|department_id|            name|age|gender|salary| hire_date|\n",
      "+-----------+-------------+----------------+---+------+------+----------+\n",
      "|        001|          101|        John Doe| 30|  Male| 50000|2015-01-01|\n",
      "|        002|          102|      Jane Smith| 28|Female| 52000|2016-03-15|\n",
      "|        003|          103|    Robert Brown| 35|  Male| 60000|2014-07-22|\n",
      "|        004|          104|   Emily Johnson| 32|Female| 58000|2017-10-10|\n",
      "|        005|          105|   Michael Davis| 40|  Male| 65000|2013-12-05|\n",
      "|        006|          106|    Sarah Wilson| 29|Female| 54000|2018-06-30|\n",
      "|        007|          107|  David Martinez| 31|  Male| 57000|2016-09-25|\n",
      "|        008|          108|    Laura Garcia| 27|Female| 51000|2019-02-18|\n",
      "|        009|          109|    James Thomas| 38|  Male| 62000|2015-05-14|\n",
      "|        010|          110|Olivia Hernandez| 33|Female| 59000|2014-11-08|\n",
      "+-----------+-------------+----------------+---+------+------+----------+\n",
      "\n"
     ]
    }
   ],
   "source": [
    "emp.show()"
   ]
  },
  {
   "cell_type": "code",
   "execution_count": 76,
   "id": "8c210925-a693-4966-b969-5b904fe4924b",
   "metadata": {},
   "outputs": [
    {
     "data": {
      "text/html": [
       "\n",
       "            <div>\n",
       "                <p><b>SparkSession - in-memory</b></p>\n",
       "                \n",
       "        <div>\n",
       "            <p><b>SparkContext</b></p>\n",
       "\n",
       "            <p><a href=\"http://172.19.3.190:4040\">Spark UI</a></p>\n",
       "\n",
       "            <dl>\n",
       "              <dt>Version</dt>\n",
       "                <dd><code>v3.5.5</code></dd>\n",
       "              <dt>Master</dt>\n",
       "                <dd><code>local[*]</code></dd>\n",
       "              <dt>AppName</dt>\n",
       "                <dd><code>MyApp</code></dd>\n",
       "            </dl>\n",
       "        </div>\n",
       "        \n",
       "            </div>\n",
       "        "
      ],
      "text/plain": [
       "<pyspark.sql.session.SparkSession at 0x28a331ea410>"
      ]
     },
     "execution_count": 76,
     "metadata": {},
     "output_type": "execute_result"
    }
   ],
   "source": [
    "spark"
   ]
  },
  {
   "cell_type": "code",
   "execution_count": null,
   "id": "653c816d-ce04-4414-8383-47503390c024",
   "metadata": {},
   "outputs": [],
   "source": []
  }
 ],
 "metadata": {
  "kernelspec": {
   "display_name": "PySpark",
   "language": "python",
   "name": "pyspark"
  },
  "language_info": {
   "codemirror_mode": {
    "name": "ipython",
    "version": 3
   },
   "file_extension": ".py",
   "mimetype": "text/x-python",
   "name": "python",
   "nbconvert_exporter": "python",
   "pygments_lexer": "ipython3",
   "version": "3.11.0"
  }
 },
 "nbformat": 4,
 "nbformat_minor": 5
}
