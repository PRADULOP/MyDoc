{
 "cells": [
  {
   "cell_type": "markdown",
   "id": "4e85be1e-1ab5-4fa7-ac90-f21aebf8914f",
   "metadata": {},
   "source": [
    "# ODD OR EVEN PROGRAM"
   ]
  },
  {
   "cell_type": "code",
   "execution_count": 2,
   "id": "c0443693-43ae-4a37-9dd4-da2a3af7425a",
   "metadata": {},
   "outputs": [
    {
     "name": "stdout",
     "output_type": "stream",
     "text": [
      "Even list: [2, 4, 6, 8, 10, 12, 14, 16, 18, 20, 22, 24, 26, 28, 30, 32, 34, 36, 38, 40, 42, 44, 46, 48, 50, 52, 54, 56, 58, 60]\n",
      "Odd List: [1, 3, 5, 7, 9, 11, 13, 15, 17, 19, 21, 23, 25, 27, 29, 31, 33, 35, 37, 39, 41, 43, 45, 47, 49, 51, 53, 55, 57, 59]\n"
     ]
    }
   ],
   "source": [
    "L8=[]\n",
    "L9=[]\n",
    "for i in range(1,61):\n",
    "    if(i%2==0):\n",
    "        L8.append(i)\n",
    "    else:\n",
    "        L9.append(i)\n",
    "print(\"Even list:\",L8)\n",
    "print(\"Odd List:\", L9)"
   ]
  },
  {
   "cell_type": "markdown",
   "id": "73769cdc-c642-49be-8e6f-0215d56b0e89",
   "metadata": {},
   "source": [
    "# STRING REVERSE"
   ]
  },
  {
   "cell_type": "code",
   "execution_count": 4,
   "id": "c9b9bc1e-25b8-4456-8dd1-8ccb96486cdd",
   "metadata": {},
   "outputs": [
    {
     "name": "stdout",
     "output_type": "stream",
     "text": [
      "String: Pradul\n",
      "Reversed String: ludarP\n"
     ]
    }
   ],
   "source": [
    "name = \"Pradul\"\n",
    "reversed_string = name[::-1]\n",
    "print(\"String:\",name)\n",
    "print(\"Reversed String:\",reversed_string)"
   ]
  },
  {
   "cell_type": "markdown",
   "id": "e34491d0-ed61-472b-a3e1-44fed0e33dd5",
   "metadata": {},
   "source": [
    "# PALINDROME"
   ]
  },
  {
   "cell_type": "code",
   "execution_count": 5,
   "id": "8add373d-7591-468e-b87d-08355d34c62c",
   "metadata": {},
   "outputs": [
    {
     "name": "stdout",
     "output_type": "stream",
     "text": [
      "It is a Palindrome\n"
     ]
    }
   ],
   "source": [
    "item='malayalam'\n",
    "rev = item[::-1]\n",
    "if(item == rev):\n",
    "    print(\"It is a Palindrome\")\n",
    "else:\n",
    "    print(\"It is not palindrome\")"
   ]
  },
  {
   "cell_type": "markdown",
   "id": "0602503c-18b8-4ee8-b020-d490ff824e6e",
   "metadata": {},
   "source": [
    "# PRIME NUMBER"
   ]
  },
  {
   "cell_type": "code",
   "execution_count": 6,
   "id": "e8437ede-7fdb-4730-8a2f-e236e366341e",
   "metadata": {},
   "outputs": [
    {
     "name": "stdin",
     "output_type": "stream",
     "text": [
      " 7\n"
     ]
    },
    {
     "name": "stdout",
     "output_type": "stream",
     "text": [
      "7 is prime number\n"
     ]
    }
   ],
   "source": [
    "def is_prime(n):\n",
    "    if n<2:\n",
    "        return False\n",
    "    else:  \n",
    "        for i in range(2,int(n**0.5)+1):\n",
    "            if n%i==0:\n",
    "                return False\n",
    "        return True        \n",
    "                \n",
    "\n",
    "n=int(input())\n",
    "if(is_prime(n)):\n",
    "    print(f\"{n} is prime number\")\n",
    "else:\n",
    "    print(f\"{n} is not prime number\")"
   ]
  },
  {
   "cell_type": "markdown",
   "id": "8b516d01-b2cd-4835-b4c7-cfa30495ca80",
   "metadata": {},
   "source": [
    "# FIBANOCCI"
   ]
  },
  {
   "cell_type": "code",
   "execution_count": 7,
   "id": "a77bf937-2664-4ff3-b72c-e61986180418",
   "metadata": {},
   "outputs": [
    {
     "name": "stdout",
     "output_type": "stream",
     "text": [
      "0 1 1 2 3 5 8 13 21 34 "
     ]
    }
   ],
   "source": [
    "n=10\n",
    "a=0;b=1\n",
    "for i in range(n):\n",
    "    print(a,end=\" \")\n",
    "    a,b=b,a+b"
   ]
  }
 ],
 "metadata": {
  "kernelspec": {
   "display_name": "Python 3 (ipykernel)",
   "language": "python",
   "name": "python3"
  },
  "language_info": {
   "codemirror_mode": {
    "name": "ipython",
    "version": 3
   },
   "file_extension": ".py",
   "mimetype": "text/x-python",
   "name": "python",
   "nbconvert_exporter": "python",
   "pygments_lexer": "ipython3",
   "version": "3.11.0"
  }
 },
 "nbformat": 4,
 "nbformat_minor": 5
}
